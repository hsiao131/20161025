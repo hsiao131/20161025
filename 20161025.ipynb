{
 "cells": [
  {
   "cell_type": "code",
   "execution_count": 1,
   "metadata": {
    "collapsed": true
   },
   "outputs": [],
   "source": [
    "import numpy as np\n",
    "k=9100\n",
    "interval=500\n",
    "premium_call=179\n",
    "premium_put=185\n",
    "ST=np.arange(k - interval, k + interval)"
   ]
  },
  {
   "cell_type": "code",
   "execution_count": 2,
   "metadata": {
    "collapsed": true
   },
   "outputs": [],
   "source": [
    "payoff_longcall = np.maximum(ST-k, 0)-premium_call\n",
    "payoff_shortcall = -payoff_longcall\n",
    "payoff_longput = np.maximum(k-ST, 0)-premium_put\n",
    "payoff_shortput = -payoff_longput"
   ]
  },
  {
   "cell_type": "code",
   "execution_count": 3,
   "metadata": {
    "collapsed": false
   },
   "outputs": [
    {
     "data": {
      "text/plain": [
       "<matplotlib.legend.Legend at 0x2b368883128>"
      ]
     },
     "execution_count": 3,
     "metadata": {},
     "output_type": "execute_result"
    },
    {
     "data": {
      "image/png": "[encoded data removed]",
      "text/plain": [
       "<matplotlib.figure.Figure at 0x2b366a3c2e8>"
      ]
     },
     "metadata": {},
     "output_type": "display_data"
    }
   ],
   "source": [
    "import matplotlib.pyplot as plt\n",
    "%matplotlib inline\n",
    "plt.plot(ST,payoff_longcall, label='+c')\n",
    "plt.plot(ST,payoff_shortcall, label='-c')\n",
    "plt.axhline(0, color='black', ls='dashed')\n",
    "plt.axvline(k, color='black', ls='dashed')\n",
    "plt.axvline(k+premium_call, color='black' , ls='dashed')\n",
    "\n",
    "plt.text(ST[0], premium_call, premium_call)\n",
    "plt.text(ST[0], -premium_call, premium_call)\n",
    "plt.text(k, 0,k)\n",
    "plt.text(k+premium_call, 0, k+premium_call)\n",
    "\n",
    "plt.legend(loc='upper left')"
   ]
  },
  {
   "cell_type": "code",
   "execution_count": null,
   "metadata": {
    "collapsed": true
   },
   "outputs": [],
   "source": []
  }
 ],
 "metadata": {
  "kernelspec": {
   "display_name": "Python [Root]",
   "language": "python",
   "name": "Python [Root]"
  },
  "language_info": {
   "codemirror_mode": {
    "name": "ipython",
    "version": 3
   },
   "file_extension": ".py",
   "mimetype": "text/x-python",
   "name": "python",
   "nbconvert_exporter": "python",
   "pygments_lexer": "ipython3",
   "version": "3.5.2"
  }
 },
 "nbformat": 4,
 "nbformat_minor": 0
}
